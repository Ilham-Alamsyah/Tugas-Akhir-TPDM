{
 "cells": [
  {
   "cell_type": "code",
   "execution_count": 1,
   "id": "e87ebadc",
   "metadata": {},
   "outputs": [],
   "source": [
    "import pandas as pd #untuk dataframe\n",
    "import pylab as pl #untuk plotting\n",
    "from matplotlib import pyplot as plt\n",
    "import numpy as np\n",
    "import sklearn \n",
    "from sklearn import linear_model\n",
    "from sklearn.linear_model import LinearRegression\n",
    "%matplotlib inline"
   ]
  },
  {
   "cell_type": "code",
   "execution_count": 10,
   "id": "d8589da8",
   "metadata": {},
   "outputs": [
    {
     "data": {
      "text/html": [
       "<div>\n",
       "<style scoped>\n",
       "    .dataframe tbody tr th:only-of-type {\n",
       "        vertical-align: middle;\n",
       "    }\n",
       "\n",
       "    .dataframe tbody tr th {\n",
       "        vertical-align: top;\n",
       "    }\n",
       "\n",
       "    .dataframe thead th {\n",
       "        text-align: right;\n",
       "    }\n",
       "</style>\n",
       "<table border=\"1\" class=\"dataframe\">\n",
       "  <thead>\n",
       "    <tr style=\"text-align: right;\">\n",
       "      <th></th>\n",
       "      <th>Date</th>\n",
       "      <th>Price</th>\n",
       "      <th>Open</th>\n",
       "      <th>High</th>\n",
       "      <th>Low</th>\n",
       "    </tr>\n",
       "  </thead>\n",
       "  <tbody>\n",
       "    <tr>\n",
       "      <th>0</th>\n",
       "      <td>Aug 01, 2018</td>\n",
       "      <td>1216.6</td>\n",
       "      <td>1223.4</td>\n",
       "      <td>1223.4</td>\n",
       "      <td>1216.2</td>\n",
       "    </tr>\n",
       "    <tr>\n",
       "      <th>1</th>\n",
       "      <td>Jul 31, 2018</td>\n",
       "      <td>1223.7</td>\n",
       "      <td>1220.4</td>\n",
       "      <td>1228.1</td>\n",
       "      <td>1213.0</td>\n",
       "    </tr>\n",
       "    <tr>\n",
       "      <th>2</th>\n",
       "      <td>Jul 30, 2018</td>\n",
       "      <td>1221.3</td>\n",
       "      <td>1222.5</td>\n",
       "      <td>1223.9</td>\n",
       "      <td>1218.1</td>\n",
       "    </tr>\n",
       "    <tr>\n",
       "      <th>3</th>\n",
       "      <td>Jul 27, 2018</td>\n",
       "      <td>1222.2</td>\n",
       "      <td>1223.5</td>\n",
       "      <td>1226.8</td>\n",
       "      <td>1216.7</td>\n",
       "    </tr>\n",
       "    <tr>\n",
       "      <th>4</th>\n",
       "      <td>Jul 26, 2018</td>\n",
       "      <td>1225.3</td>\n",
       "      <td>1227.8</td>\n",
       "      <td>1227.8</td>\n",
       "      <td>1227.8</td>\n",
       "    </tr>\n",
       "  </tbody>\n",
       "</table>\n",
       "</div>"
      ],
      "text/plain": [
       "           Date   Price    Open    High     Low\n",
       "0  Aug 01, 2018  1216.6  1223.4  1223.4  1216.2\n",
       "1  Jul 31, 2018  1223.7  1220.4  1228.1  1213.0\n",
       "2  Jul 30, 2018  1221.3  1222.5  1223.9  1218.1\n",
       "3  Jul 27, 2018  1222.2  1223.5  1226.8  1216.7\n",
       "4  Jul 26, 2018  1225.3  1227.8  1227.8  1227.8"
      ]
     },
     "execution_count": 10,
     "metadata": {},
     "output_type": "execute_result"
    }
   ],
   "source": [
    "df = pd.read_csv(\"goldx.csv\") \n",
    "\n",
    "\n",
    "df.head()"
   ]
  },
  {
   "cell_type": "code",
   "execution_count": 11,
   "id": "af87535c",
   "metadata": {},
   "outputs": [
    {
     "data": {
      "text/html": [
       "<div>\n",
       "<style scoped>\n",
       "    .dataframe tbody tr th:only-of-type {\n",
       "        vertical-align: middle;\n",
       "    }\n",
       "\n",
       "    .dataframe tbody tr th {\n",
       "        vertical-align: top;\n",
       "    }\n",
       "\n",
       "    .dataframe thead th {\n",
       "        text-align: right;\n",
       "    }\n",
       "</style>\n",
       "<table border=\"1\" class=\"dataframe\">\n",
       "  <thead>\n",
       "    <tr style=\"text-align: right;\">\n",
       "      <th></th>\n",
       "      <th>Open</th>\n",
       "      <th>High</th>\n",
       "      <th>Low</th>\n",
       "      <th>Price</th>\n",
       "    </tr>\n",
       "  </thead>\n",
       "  <tbody>\n",
       "    <tr>\n",
       "      <th>0</th>\n",
       "      <td>1223.4</td>\n",
       "      <td>1223.4</td>\n",
       "      <td>1216.2</td>\n",
       "      <td>1216.6</td>\n",
       "    </tr>\n",
       "    <tr>\n",
       "      <th>1</th>\n",
       "      <td>1220.4</td>\n",
       "      <td>1228.1</td>\n",
       "      <td>1213.0</td>\n",
       "      <td>1223.7</td>\n",
       "    </tr>\n",
       "    <tr>\n",
       "      <th>2</th>\n",
       "      <td>1222.5</td>\n",
       "      <td>1223.9</td>\n",
       "      <td>1218.1</td>\n",
       "      <td>1221.3</td>\n",
       "    </tr>\n",
       "    <tr>\n",
       "      <th>3</th>\n",
       "      <td>1223.5</td>\n",
       "      <td>1226.8</td>\n",
       "      <td>1216.7</td>\n",
       "      <td>1222.2</td>\n",
       "    </tr>\n",
       "    <tr>\n",
       "      <th>4</th>\n",
       "      <td>1227.8</td>\n",
       "      <td>1227.8</td>\n",
       "      <td>1227.8</td>\n",
       "      <td>1225.3</td>\n",
       "    </tr>\n",
       "    <tr>\n",
       "      <th>5</th>\n",
       "      <td>1225.3</td>\n",
       "      <td>1234.3</td>\n",
       "      <td>1223.2</td>\n",
       "      <td>1233.0</td>\n",
       "    </tr>\n",
       "    <tr>\n",
       "      <th>6</th>\n",
       "      <td>1224.4</td>\n",
       "      <td>1229.6</td>\n",
       "      <td>1218.2</td>\n",
       "      <td>1225.3</td>\n",
       "    </tr>\n",
       "    <tr>\n",
       "      <th>7</th>\n",
       "      <td>1222.0</td>\n",
       "      <td>1222.0</td>\n",
       "      <td>1222.0</td>\n",
       "      <td>1224.0</td>\n",
       "    </tr>\n",
       "    <tr>\n",
       "      <th>8</th>\n",
       "      <td>1229.5</td>\n",
       "      <td>1229.5</td>\n",
       "      <td>1229.5</td>\n",
       "      <td>1229.5</td>\n",
       "    </tr>\n",
       "  </tbody>\n",
       "</table>\n",
       "</div>"
      ],
      "text/plain": [
       "     Open    High     Low   Price\n",
       "0  1223.4  1223.4  1216.2  1216.6\n",
       "1  1220.4  1228.1  1213.0  1223.7\n",
       "2  1222.5  1223.9  1218.1  1221.3\n",
       "3  1223.5  1226.8  1216.7  1222.2\n",
       "4  1227.8  1227.8  1227.8  1225.3\n",
       "5  1225.3  1234.3  1223.2  1233.0\n",
       "6  1224.4  1229.6  1218.2  1225.3\n",
       "7  1222.0  1222.0  1222.0  1224.0\n",
       "8  1229.5  1229.5  1229.5  1229.5"
      ]
     },
     "execution_count": 11,
     "metadata": {},
     "output_type": "execute_result"
    }
   ],
   "source": [
    "df1 = df[['Open','High','Low','Price']]\n",
    "df1.head(9)"
   ]
  },
  {
   "cell_type": "code",
   "execution_count": 12,
   "id": "00e5bcab",
   "metadata": {},
   "outputs": [
    {
     "data": {
      "text/html": [
       "<div>\n",
       "<style scoped>\n",
       "    .dataframe tbody tr th:only-of-type {\n",
       "        vertical-align: middle;\n",
       "    }\n",
       "\n",
       "    .dataframe tbody tr th {\n",
       "        vertical-align: top;\n",
       "    }\n",
       "\n",
       "    .dataframe thead th {\n",
       "        text-align: right;\n",
       "    }\n",
       "</style>\n",
       "<table border=\"1\" class=\"dataframe\">\n",
       "  <thead>\n",
       "    <tr style=\"text-align: right;\">\n",
       "      <th></th>\n",
       "      <th>Open</th>\n",
       "      <th>High</th>\n",
       "      <th>Low</th>\n",
       "      <th>Price</th>\n",
       "    </tr>\n",
       "  </thead>\n",
       "  <tbody>\n",
       "    <tr>\n",
       "      <th>0</th>\n",
       "      <td>1223.4</td>\n",
       "      <td>1223.4</td>\n",
       "      <td>1216.2</td>\n",
       "      <td>1216.6</td>\n",
       "    </tr>\n",
       "    <tr>\n",
       "      <th>1</th>\n",
       "      <td>1220.4</td>\n",
       "      <td>1228.1</td>\n",
       "      <td>1213.0</td>\n",
       "      <td>1223.7</td>\n",
       "    </tr>\n",
       "    <tr>\n",
       "      <th>2</th>\n",
       "      <td>1222.5</td>\n",
       "      <td>1223.9</td>\n",
       "      <td>1218.1</td>\n",
       "      <td>1221.3</td>\n",
       "    </tr>\n",
       "    <tr>\n",
       "      <th>3</th>\n",
       "      <td>1223.5</td>\n",
       "      <td>1226.8</td>\n",
       "      <td>1216.7</td>\n",
       "      <td>1222.2</td>\n",
       "    </tr>\n",
       "    <tr>\n",
       "      <th>4</th>\n",
       "      <td>1227.8</td>\n",
       "      <td>1227.8</td>\n",
       "      <td>1227.8</td>\n",
       "      <td>1225.3</td>\n",
       "    </tr>\n",
       "    <tr>\n",
       "      <th>5</th>\n",
       "      <td>1225.3</td>\n",
       "      <td>1234.3</td>\n",
       "      <td>1223.2</td>\n",
       "      <td>1233.0</td>\n",
       "    </tr>\n",
       "    <tr>\n",
       "      <th>6</th>\n",
       "      <td>1224.4</td>\n",
       "      <td>1229.6</td>\n",
       "      <td>1218.2</td>\n",
       "      <td>1225.3</td>\n",
       "    </tr>\n",
       "    <tr>\n",
       "      <th>7</th>\n",
       "      <td>1222.0</td>\n",
       "      <td>1222.0</td>\n",
       "      <td>1222.0</td>\n",
       "      <td>1224.0</td>\n",
       "    </tr>\n",
       "    <tr>\n",
       "      <th>8</th>\n",
       "      <td>1229.5</td>\n",
       "      <td>1229.5</td>\n",
       "      <td>1229.5</td>\n",
       "      <td>1229.5</td>\n",
       "    </tr>\n",
       "  </tbody>\n",
       "</table>\n",
       "</div>"
      ],
      "text/plain": [
       "     Open    High     Low   Price\n",
       "0  1223.4  1223.4  1216.2  1216.6\n",
       "1  1220.4  1228.1  1213.0  1223.7\n",
       "2  1222.5  1223.9  1218.1  1221.3\n",
       "3  1223.5  1226.8  1216.7  1222.2\n",
       "4  1227.8  1227.8  1227.8  1225.3\n",
       "5  1225.3  1234.3  1223.2  1233.0\n",
       "6  1224.4  1229.6  1218.2  1225.3\n",
       "7  1222.0  1222.0  1222.0  1224.0\n",
       "8  1229.5  1229.5  1229.5  1229.5"
      ]
     },
     "execution_count": 12,
     "metadata": {},
     "output_type": "execute_result"
    }
   ],
   "source": [
    "cdf=df1.fillna(df1.mean())\n",
    "cdf.head(9)"
   ]
  },
  {
   "cell_type": "code",
   "execution_count": 13,
   "id": "1243c2e6",
   "metadata": {},
   "outputs": [
    {
     "data": {
      "image/png": "[encoded data removed]",
      "text/plain": [
       "<Figure size 640x480 with 4 Axes>"
      ]
     },
     "metadata": {},
     "output_type": "display_data"
    }
   ],
   "source": [
    "viz = cdf [['Open','High','Low','Price']]\n",
    "viz.hist()\n",
    "plt.show()"
   ]
  },
  {
   "cell_type": "code",
   "execution_count": 14,
   "id": "f9cae2e6",
   "metadata": {},
   "outputs": [
    {
     "data": {
      "text/html": [
       "<div>\n",
       "<style scoped>\n",
       "    .dataframe tbody tr th:only-of-type {\n",
       "        vertical-align: middle;\n",
       "    }\n",
       "\n",
       "    .dataframe tbody tr th {\n",
       "        vertical-align: top;\n",
       "    }\n",
       "\n",
       "    .dataframe thead th {\n",
       "        text-align: right;\n",
       "    }\n",
       "</style>\n",
       "<table border=\"1\" class=\"dataframe\">\n",
       "  <thead>\n",
       "    <tr style=\"text-align: right;\">\n",
       "      <th></th>\n",
       "      <th>Open</th>\n",
       "      <th>High</th>\n",
       "      <th>Low</th>\n",
       "      <th>Price</th>\n",
       "    </tr>\n",
       "  </thead>\n",
       "  <tbody>\n",
       "    <tr>\n",
       "      <th>count</th>\n",
       "      <td>9771.000000</td>\n",
       "      <td>9771.000000</td>\n",
       "      <td>9771.000000</td>\n",
       "      <td>9771.000000</td>\n",
       "    </tr>\n",
       "    <tr>\n",
       "      <th>mean</th>\n",
       "      <td>639.059523</td>\n",
       "      <td>641.936432</td>\n",
       "      <td>635.853220</td>\n",
       "      <td>638.922221</td>\n",
       "    </tr>\n",
       "    <tr>\n",
       "      <th>std</th>\n",
       "      <td>419.894281</td>\n",
       "      <td>422.504386</td>\n",
       "      <td>416.955696</td>\n",
       "      <td>419.776826</td>\n",
       "    </tr>\n",
       "    <tr>\n",
       "      <th>min</th>\n",
       "      <td>252.900000</td>\n",
       "      <td>252.900000</td>\n",
       "      <td>252.500000</td>\n",
       "      <td>253.000000</td>\n",
       "    </tr>\n",
       "    <tr>\n",
       "      <th>25%</th>\n",
       "      <td>351.200000</td>\n",
       "      <td>352.000000</td>\n",
       "      <td>350.500000</td>\n",
       "      <td>351.150000</td>\n",
       "    </tr>\n",
       "    <tr>\n",
       "      <th>50%</th>\n",
       "      <td>407.800000</td>\n",
       "      <td>409.000000</td>\n",
       "      <td>406.300000</td>\n",
       "      <td>407.900000</td>\n",
       "    </tr>\n",
       "    <tr>\n",
       "      <th>75%</th>\n",
       "      <td>926.000000</td>\n",
       "      <td>932.550000</td>\n",
       "      <td>920.500000</td>\n",
       "      <td>926.750000</td>\n",
       "    </tr>\n",
       "    <tr>\n",
       "      <th>max</th>\n",
       "      <td>1909.000000</td>\n",
       "      <td>1911.600000</td>\n",
       "      <td>1864.000000</td>\n",
       "      <td>1888.700000</td>\n",
       "    </tr>\n",
       "  </tbody>\n",
       "</table>\n",
       "</div>"
      ],
      "text/plain": [
       "              Open         High          Low        Price\n",
       "count  9771.000000  9771.000000  9771.000000  9771.000000\n",
       "mean    639.059523   641.936432   635.853220   638.922221\n",
       "std     419.894281   422.504386   416.955696   419.776826\n",
       "min     252.900000   252.900000   252.500000   253.000000\n",
       "25%     351.200000   352.000000   350.500000   351.150000\n",
       "50%     407.800000   409.000000   406.300000   407.900000\n",
       "75%     926.000000   932.550000   920.500000   926.750000\n",
       "max    1909.000000  1911.600000  1864.000000  1888.700000"
      ]
     },
     "execution_count": 14,
     "metadata": {},
     "output_type": "execute_result"
    }
   ],
   "source": [
    "cdf.describe()"
   ]
  },
  {
   "cell_type": "code",
   "execution_count": 15,
   "id": "b80ddcca",
   "metadata": {},
   "outputs": [
    {
     "data": {
      "image/png": "[encoded data removed]",
      "text/plain": [
       "<Figure size 640x480 with 1 Axes>"
      ]
     },
     "metadata": {},
     "output_type": "display_data"
    }
   ],
   "source": [
    "plt.scatter(cdf.Open, cdf.Price, color='blue')\n",
    "plt.scatter(cdf.High, cdf.Price, color='red')\n",
    "plt.scatter(cdf.Low, cdf.Price, color='green')\n",
    "plt.xlabel(\"Open,High,Low\")\n",
    "plt.ylabel(\"Price\")\n",
    "plt.show()"
   ]
  },
  {
   "cell_type": "code",
   "execution_count": 16,
   "id": "4376c4f4",
   "metadata": {},
   "outputs": [],
   "source": [
    "msk = np.random.rand(len(cdf)) < 0.8\n",
    "train = cdf[msk]\n",
    "test = cdf[~msk]"
   ]
  },
  {
   "cell_type": "code",
   "execution_count": 17,
   "id": "605bd9ca",
   "metadata": {},
   "outputs": [
    {
     "name": "stdout",
     "output_type": "stream",
     "text": [
      "Coefficients:  [[-0.57801666  0.78365565  0.79472153]]\n",
      "Intercept:  [-0.06535202]\n"
     ]
    }
   ],
   "source": [
    "#Membuat model regresi\n",
    "regr = LinearRegression()\n",
    "train_x = np.asanyarray(train[['Open','High','Low']])\n",
    "train_y = np.asanyarray(train[['Price']])\n",
    "regr.fit (train_x, train_y)\n",
    "\n",
    "# Koefisien model\n",
    "print ('Coefficients: ', regr.coef_)\n",
    "print ('Intercept: ',regr.intercept_)"
   ]
  },
  {
   "cell_type": "code",
   "execution_count": 18,
   "id": "3a296310",
   "metadata": {},
   "outputs": [],
   "source": [
    "test_x = np.asanyarray(test[['Open','High','Low']])\n",
    "test_y = np.asanyarray(test[['Price']])"
   ]
  },
  {
   "cell_type": "code",
   "execution_count": 19,
   "id": "c8d9b997",
   "metadata": {},
   "outputs": [
    {
     "name": "stdout",
     "output_type": "stream",
     "text": [
      "Mean absolute error (MAE): 1.71\n",
      "Mean squared error (MSE): 12.68\n",
      "Roots Mean Squared error (RMSE) : 3.56\n",
      "R2-score: 1.00\n"
     ]
    }
   ],
   "source": [
    "#Menghitung error\n",
    "from sklearn.metrics import mean_squared_error\n",
    "from sklearn.metrics import mean_absolute_error\n",
    "from sklearn.metrics import mean_squared_error\n",
    "from sklearn.metrics import r2_score\n",
    "import math\n",
    "\n",
    "test_y_ = regr.predict(test_x)\n",
    "\n",
    "print(\"Mean absolute error (MAE): %.2f\" % mean_absolute_error(test_y_,test_y))\n",
    "print(\"Mean squared error (MSE): %.2f\" % mean_squared_error(test_y_,test_y))\n",
    "print(\"Roots Mean Squared error (RMSE) : %.2f\" % math.sqrt(mean_squared_error(test_y_,test_y)))\n",
    "print(\"R2-score: %.2f\" % r2_score(test_y_ , test_y) )"
   ]
  },
  {
   "cell_type": "code",
   "execution_count": null,
   "id": "5208bf86",
   "metadata": {},
   "outputs": [],
   "source": [
    "import pickle\n",
    "pickle.dump(regr, open('gold.pkl','wb'))"
   ]
  },
  {
   "cell_type": "code",
   "execution_count": null,
   "id": "0d7f239c",
   "metadata": {},
   "outputs": [],
   "source": []
  }
 ],
 "metadata": {
  "kernelspec": {
   "display_name": "Python 3 (ipykernel)",
   "language": "python",
   "name": "python3"
  },
  "language_info": {
   "codemirror_mode": {
    "name": "ipython",
    "version": 3
   },
   "file_extension": ".py",
   "mimetype": "text/x-python",
   "name": "python",
   "nbconvert_exporter": "python",
   "pygments_lexer": "ipython3",
   "version": "3.9.13"
  }
 },
 "nbformat": 4,
 "nbformat_minor": 5
}
